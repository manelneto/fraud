{
 "cells": [
  {
   "cell_type": "markdown",
   "metadata": {},
   "source": [
    "# *Credit Card Fraud Detection - Task 1*\n",
    "\n",
    "![logo](images/logo1.jpg)"
   ]
  },
  {
   "cell_type": "code",
   "execution_count": null,
   "metadata": {},
   "outputs": [],
   "source": [
    "import matplotlib.pyplot as plt\n",
    "import pandas as pd\n",
    "import seaborn as sb"
   ]
  },
  {
   "cell_type": "markdown",
   "metadata": {},
   "source": [
    "## Compreensão do Tema"
   ]
  },
  {
   "cell_type": "markdown",
   "metadata": {},
   "source": [
    "### Compreensão do Tema\n",
    "\n",
    "Uma fraude de cartão de crédito ocorre quando um indivíduo não autorizado acede à informação do cartão de crédito de outra pessoa para fazer compras em seu nome, indevidamente.\n",
    "\n",
    "Estas fraudes são um problema cada vez mais comum e recorrente na atualidade, pelo que todas as entidades envolvidas investem significativamente em descobrir padrões e indicadores que podem indiciar situações ou tentativas de fraude."
   ]
  },
  {
   "cell_type": "markdown",
   "metadata": {},
   "source": [
    "### Determinação dos Objetivos do Tema"
   ]
  },
  {
   "cell_type": "markdown",
   "metadata": {},
   "source": [
    "De maneira a ir ao encontro das necessidades dos bancos, reguladores e fornecedores de cartões de crédito, é essencial conseguir prever corretamente se uma transação financeira é, com alta probabilidade, fraudulenta.\n",
    "\n",
    "Como tal, torna-se extremamente útil desenvolver um modelo que identifique eficazmente transações suspeitas de fraude, de maneira a aumentar a segurança financeira e a reduzir as atividades fraudulentas."
   ]
  },
  {
   "cell_type": "markdown",
   "metadata": {},
   "source": [
    "### Avaliação da Situação"
   ]
  },
  {
   "cell_type": "markdown",
   "metadata": {},
   "source": [
    "Os dados disponíveis para análise foram fornecidos por uma empresa de cartões de crédito, correspondendo a informação de 2023, com registos sobre clientes e comerciantes.\n",
    "\n",
    "O conjunto de dados inclui informação detalhada sobre transações, clientes, comerciantes e cidades, estando cada transação detalhada como legítima ou fraudulenta, permitindo uma abordagem de aprendizagem supervisionada para identificar padrões indicadores de fraude."
   ]
  },
  {
   "cell_type": "markdown",
   "metadata": {},
   "source": [
    "### Determinação dos Objetivos de Mineração de Dados"
   ]
  },
  {
   "cell_type": "markdown",
   "metadata": {},
   "source": [
    "O problema consiste em prever se uma transação é, ou não, fraudulenta, tendo como base um conjunto de dados associados à transação, ou seja, classificar cada transação como pertencente a um de dois grupos, mutuamente exclusivos: fraudulenta ou legítima (não fraudulenta).\n",
    "\n",
    "Para resolver o problema, deve ser desenvolvido um modelo de aprendizagem computacional supervisionada com capacidade para efetuar uma classificação binária que distinga os dois casos possíveis para cada transação.\n",
    "\n",
    "Pretende-se que o modelo, devidamente treinado seguindo uma abordagem de aprendizagem supervisionada, tenha uma exatidão de TODO% a classificar os dados de teste, considerando-se, nesse caso, garantida a sua viabilidade prática.\n",
    "\n",
    "Tendo em conta que é mais importante capturar todas as transações fraudulentas, ainda que correndo o risco de incluir algumas transações legítimas, do que só identificar as transações garantidamente fraudulentas, mas deixando escapar algumas transações fraudulentas, espera-se que o modelo tenha um *recall* mais elevado do que a sua precisão, ainda que ambas as medidas de desempenho devam retornar valores elevados. TODO - nesta secção?"
   ]
  },
  {
   "cell_type": "markdown",
   "metadata": {},
   "source": [
    "## Compreensão dos Dados"
   ]
  },
  {
   "cell_type": "markdown",
   "metadata": {},
   "source": [
    "### Recolha dos Dados Iniciais\n",
    "\n",
    "O *dataset* fornecido é constituído por quatro ficheiros, dividindo a informação da forma abaixo exposta.\n",
    "\n",
    "1. **cities.csv:** informação sobre várias cidades\n",
    "2. **customers.csv:** informação demográfica de cada cliente\n",
    "3. **merchants.csv:** detalhes de cada comerciante\n",
    "4. **transactions.csv:** registos de transações individuais"
   ]
  },
  {
   "cell_type": "code",
   "execution_count": null,
   "metadata": {},
   "outputs": [],
   "source": [
    "cities = pd.read_csv(\"data/cities.csv\")\n",
    "customers = pd.read_csv(\"data/customers.csv\")\n",
    "merchants = pd.read_csv(\"data/merchants.csv\")\n",
    "transactions = pd.read_csv(\"data/transactions.csv\")"
   ]
  },
  {
   "cell_type": "markdown",
   "metadata": {},
   "source": [
    "O ficheiro **cities.csv**, que contém informação sobre várias cidades, é constituído por 5 linhas e 5 colunas."
   ]
  },
  {
   "cell_type": "code",
   "execution_count": null,
   "metadata": {},
   "outputs": [],
   "source": [
    "cities.info()"
   ]
  },
  {
   "cell_type": "markdown",
   "metadata": {},
   "source": [
    "Cada linha representa uma cidade e as colunas são as seguintes:\n",
    "\n",
    "0. **city:** nome da cidade\n",
    "1. **lat:** latitude da cidade\n",
    "2. **lon:** longitude da cidade\n",
    "3. **city_pop:** população da cidade\n",
    "4. **state:** estado a que pertence a cidade"
   ]
  },
  {
   "cell_type": "code",
   "execution_count": null,
   "metadata": {},
   "outputs": [],
   "source": [
    "cities.head()"
   ]
  },
  {
   "cell_type": "markdown",
   "metadata": {},
   "source": [
    "O ficheiro **customers.csv**, que contém a informação demográfica de cada cliente, é constituído por 1100 linhas e 9 colunas."
   ]
  },
  {
   "cell_type": "code",
   "execution_count": null,
   "metadata": {},
   "outputs": [],
   "source": [
    "customers.info()"
   ]
  },
  {
   "cell_type": "markdown",
   "metadata": {},
   "source": [
    "Cada linha representa um cliente e as colunas são as seguintes:\n",
    "\n",
    "0. **cc_num:** número do cartão de crédito do cliente\n",
    "1. **first:** primeiro nome do cliente\n",
    "2. **last:** último nome do cliente\n",
    "3. **gender:** género do cliente\n",
    "4. **street:** rua da morada do cliente\n",
    "5. **city:** cidade da morada do cliente\n",
    "6. **zip:** código-postal da morada do cliente\n",
    "7. **job:** emprego do cliente\n",
    "8. **dob:** data de nascimento do cliente"
   ]
  },
  {
   "cell_type": "code",
   "execution_count": null,
   "metadata": {},
   "outputs": [],
   "source": [
    "customers.head()"
   ]
  },
  {
   "cell_type": "markdown",
   "metadata": {},
   "source": [
    "O ficheiro **merchants.csv**, que contém os detalhes de cada comerciante, é constituído por 100 linhas e 5 colunas."
   ]
  },
  {
   "cell_type": "code",
   "execution_count": null,
   "metadata": {},
   "outputs": [],
   "source": [
    "merchants.info()"
   ]
  },
  {
   "cell_type": "markdown",
   "metadata": {},
   "source": [
    "Cada linha representa um comerciante e as colunas são as seguintes:\n",
    "\n",
    "0. **merchant:** nome do comerciante\n",
    "1. **category:** categoria do negócio do comerciante\n",
    "2. **merch_lat:** latitude do comerciante\n",
    "3. **merch_lon:** longitude do comerciante\n",
    "4. **merchant_id:** identificador único do comerciante"
   ]
  },
  {
   "cell_type": "code",
   "execution_count": null,
   "metadata": {},
   "outputs": [],
   "source": [
    "merchants.head()"
   ]
  },
  {
   "cell_type": "markdown",
   "metadata": {},
   "source": [
    "O ficheiro **transactions.csv**, que contém os registos de transações individuais, é constituído por 30000 linhas e 9 colunas."
   ]
  },
  {
   "cell_type": "code",
   "execution_count": null,
   "metadata": {},
   "outputs": [],
   "source": [
    "transactions.info()"
   ]
  },
  {
   "cell_type": "markdown",
   "metadata": {},
   "source": [
    "Cada linha representa uma transação e as colunas são as seguintes:\n",
    "\n",
    "0. **index:** índice da transação\n",
    "1. **trans_date_trans_time:** data e hora da transação\n",
    "2. **cc_num:** número do cartão de crédito associado à transação\n",
    "3. **device_os:** sistema operativo a partir do qual foi efetuada a transação\n",
    "4. **merchant:** nome do comerciante da transação\n",
    "5. **amt:** quantidade da transação\n",
    "6. **trans_num:** número único da transação\n",
    "7. **unix_time:** *timestamp* *Unix* da transação\n",
    "8. **is_fraud:** etiqueta que indica se a transação foi fraudulenta (1) ou não (0)"
   ]
  },
  {
   "cell_type": "code",
   "execution_count": null,
   "metadata": {},
   "outputs": [],
   "source": [
    "transactions.head()"
   ]
  },
  {
   "cell_type": "markdown",
   "metadata": {},
   "source": [
    "Os atributos *trans_data_trans_time*/*unix_time*, *merchant* e *amt* parecem ser aqueles mais relevantes para determinar o valor da variável-alvo (*is_fraud*), por serem os que mais se relacionam com a transação propriamente dita.\n",
    "\n",
    "Em sentido contrário, as colunas *index*, *trans_num*, *merchant_id*, *first* e *last* deverão ser completamente irrelevantes para o modelo, por serem meramente indicativas. Por isso, estas colunas poderão vir a ser eliminadas numa próxima fase.\n",
    "\n",
    "Tendo em conta que existe um número bastante elevado de dados (30000 transações, que serão divididos em conjuntos de treino e de teste) e de informação adicional (sobre cidades, clientes e comerciantes), é expectável que se consigam extrair conclusões pertinentes a partir dos dados, isto é, fazer previsões/classificações acertadas, pelo que não se afigura necessário procurar novos dados.\n",
    "\n",
    "Para além disto, o número de atributos considera-se mais do que suficiente para o problema a tratar, pelo que a dimensionalidade poderá ter de ser reduzida de maneira a evitar a \"maldição da dimensionalidade\".\n",
    "\n",
    "Sendo os dados provenientes de uma só origem, não se antecipam quaisquer problemas de compatibilidade/coerência.\n",
    "\n",
    "Por último, os casos de valores em falta e/ou incorretos serão analisados individualmente: se possível, os valores serão corrigidos ou imputados; senão, as linhas serão eliminadas, visto que o número total de dados é suficiente para a criação de um modelo robusto."
   ]
  },
  {
   "cell_type": "markdown",
   "metadata": {},
   "source": [
    "### Descrição dos Dados"
   ]
  },
  {
   "cell_type": "markdown",
   "metadata": {},
   "source": [
    "A quantidade de dados disponíveis (30000 transações com a respetiva informação) parece adequada para o modelo pretendido, permitindo o desenvolvimento de um modelo simultaneamente eficaz (em termos de exatidão) e eficiente (em termos de tempo de processamento computacional).\n",
    "\n",
    "A eliminação de colunas/atributos irrelevantes deverá ser suficiente para escapar à maldição da dimensionalidade e evitar *overfitting*, bem como melhorar o desempenho do programa.\n",
    "\n",
    "Os tipos dos valores e as respetivas escalas apresentam-se abaixo."
   ]
  },
  {
   "cell_type": "markdown",
   "metadata": {},
   "source": [
    "**Cidades:** 5 linhas e 5 colunas\n",
    "\n",
    "| Atributo | Tipo | Escala | Formato |\n",
    "| -------- | ---- | ------ | ------- |\n",
    "| **city** | categórico | nominal | *string* |\n",
    "| **lat** | numérico contínuo | rácio | número decimal |\n",
    "| **long** | numérico contínuo | rácio | número decimal |\n",
    "| **city_pop** | numérico discreto | rácio | número inteiro |\n",
    "| **state** | categórico | nominal | *string* |\n",
    "\n",
    "Portanto, todos os dados de cidades estão representados/codificados de forma adequada."
   ]
  },
  {
   "cell_type": "code",
   "execution_count": 54,
   "metadata": {},
   "outputs": [
    {
     "data": {
      "text/plain": [
       "city         object\n",
       "lat         float64\n",
       "long        float64\n",
       "city_pop      int64\n",
       "state        object\n",
       "dtype: object"
      ]
     },
     "execution_count": 54,
     "metadata": {},
     "output_type": "execute_result"
    }
   ],
   "source": [
    "cities.dtypes"
   ]
  },
  {
   "cell_type": "markdown",
   "metadata": {},
   "source": [
    "**Clientes:** 1100 linhas e 9 colunas\n",
    "\n",
    "| Atributo | Tipo | Escala | Formato |\n",
    "| -------- | ---- | ------ | ------- |\n",
    "| **cc_num** | categórico | nominal | número inteiro |\n",
    "| **first** | categórico | nominal | *string* |\n",
    "| **last** | categórico | nominal | *string* |\n",
    "| **gender** | categórico | nominal | *string* |\n",
    "| **street** | categórico | nominal | *string* |\n",
    "| **city** | categórico | nominal | *string* |\n",
    "| **zip** | categórico | nominal | número decimal |\n",
    "| **job** | categórico | nominal | *string* |\n",
    "| **dob** | categórico | ordinal | *string* |\n",
    "\n",
    "Neste caso, os atributos *cc_num* e *zip* são valores categóricos com escala nominal - por não representarem quantidades e não haver uma ordem entre eles -, mas estão representados como números (inteiros e decimais, respetivamente), pelo que não se encontram codificados da forma mais apropriada.\n",
    "\n",
    "Como tal, de maneira a evitar más interpretações por parte do modelo, os formatos de representação das colunas *cc_num* e *zip* terão de ser convertidos para *string* ou `pandas.Categorical`, para garantir que são tratados como valores categóricos nominais."
   ]
  },
  {
   "cell_type": "code",
   "execution_count": 53,
   "metadata": {},
   "outputs": [
    {
     "data": {
      "text/plain": [
       "cc_num      int64\n",
       "first      object\n",
       "last       object\n",
       "gender     object\n",
       "street     object\n",
       "city       object\n",
       "zip       float64\n",
       "job        object\n",
       "dob        object\n",
       "dtype: object"
      ]
     },
     "execution_count": 53,
     "metadata": {},
     "output_type": "execute_result"
    }
   ],
   "source": [
    "customers.dtypes"
   ]
  },
  {
   "cell_type": "markdown",
   "metadata": {},
   "source": [
    "**Comerciantes:** 100 linhas e 5 colunas\n",
    "\n",
    "| Atributo | Tipo | Escala | Formato |\n",
    "| -------- | ---- | ------ | ------- |\n",
    "| **merchant** | categórico | nominal | *string* |\n",
    "| **category** | categórico | nominal | *string* |\n",
    "| **merch_lat** | numérico contínuo | rácio | número decimal |\n",
    "| **merch_long** | numérico contínuo | rácio | número decimal |\n",
    "| **merchant_id** | categórico | nominal | número inteiro |\n",
    "\n",
    "Aqui, todos os atributos estão representados adequadamente, com exceção de *merchant_id*, que está codificado como um número inteiro, mas é um valor categórico nominal, dado que, apesar de ser representado por um número, corresponde a um identificador que não traduz nenhuma relação de ordem significativa.\n",
    "\n",
    "Deste modo, o formato da coluna *merchant_id* terá de, posteriormente, ser transformado em *string* ou `pandas.Categorical`, caso se pretenda a sua ingestão por parte do modelo."
   ]
  },
  {
   "cell_type": "code",
   "execution_count": 52,
   "metadata": {},
   "outputs": [
    {
     "data": {
      "text/plain": [
       "merchant        object\n",
       "category        object\n",
       "merch_lat      float64\n",
       "merch_long     float64\n",
       "merchant_id      int64\n",
       "dtype: object"
      ]
     },
     "execution_count": 52,
     "metadata": {},
     "output_type": "execute_result"
    }
   ],
   "source": [
    "merchants.dtypes"
   ]
  },
  {
   "cell_type": "markdown",
   "metadata": {},
   "source": [
    "**Transações:** 30000 linhas e 9 colunas\n",
    "\n",
    "| Atributo | Tipo | Escala | Formato |\n",
    "| -------- | ---- | ------ | ------- |\n",
    "| **index** | categórico | nominal | número inteiro |\n",
    "| **trans_date_trans_time** | categórico | ordinal | *string* |\n",
    "| **cc_num** | categórico | nominal | número inteiro | \n",
    "| **device_os** | categórico | nominal | *string* |\n",
    "| **merchant** | categórico | nominal | *string* |\n",
    "| **amt** | numérico contínuo | rácio | número decimal |\n",
    "| **trans_num** | categórico | nominal | *string* |\n",
    "| **unix_time** | numérico discreto | intervalar | número inteiro |\n",
    "| **is_fraud** | categórico | nominal | número inteiro |\n",
    "\n",
    "Neste conjunto de transações, as colunas *index*, *cc_num* e *is_fraud* deveriam ter um formato mais adequado ao seu significado.\n",
    "\n",
    "Ou seja, tal como anteriormente, estas colunas são do tipo categórico com escala nominal porque, embora os seus valores sejam números inteiros, a ordem entre eles é arbitrária, pelo que, numa fase mais avançada do processo de desenvolvimento, os formatos terão de ser convertidos para *string* ou `pandas.Categorical` garantir um tratamento adequado por parte do modelo.\n",
    "\n",
    "Note-se ainda que a coluna *trans_date_trans_time* é a única com formato *string* que representa valores categóricos ordinais (em vez de nominais), o que poderia levar à necessidade de alguma atenção redobrada num momento posterior, mas, na verdade, esta coluna deverá ser removida por traduzir a mesma informação que a coluna *unix_time* que, por sua vez, tem uma representação mais adequada."
   ]
  },
  {
   "cell_type": "code",
   "execution_count": 55,
   "metadata": {},
   "outputs": [
    {
     "data": {
      "text/plain": [
       "index                      int64\n",
       "trans_date_trans_time     object\n",
       "cc_num                     int64\n",
       "device_os                 object\n",
       "merchant                  object\n",
       "amt                      float64\n",
       "trans_num                 object\n",
       "unix_time                  int64\n",
       "is_fraud                   int64\n",
       "dtype: object"
      ]
     },
     "execution_count": 55,
     "metadata": {},
     "output_type": "execute_result"
    }
   ],
   "source": [
    "transactions.dtypes"
   ]
  },
  {
   "cell_type": "markdown",
   "metadata": {},
   "source": [
    "Em todo o *dataset*, a única coluna que se pode considerar codificada é *is_fraud*, sendo que o esquema de codificação consiste em representar \"verdadeiro\"/\"sim\" como 1 e \"falso\"/\"não\" como 0. Nenhuma das restantes colunas está codificada."
   ]
  },
  {
   "cell_type": "code",
   "execution_count": null,
   "metadata": {},
   "outputs": [],
   "source": [
    "cities.describe(include = 'all')"
   ]
  },
  {
   "cell_type": "code",
   "execution_count": null,
   "metadata": {},
   "outputs": [],
   "source": [
    "customers.describe(include = 'all')"
   ]
  },
  {
   "cell_type": "code",
   "execution_count": null,
   "metadata": {},
   "outputs": [],
   "source": [
    "merchants.describe(include = 'all')"
   ]
  },
  {
   "cell_type": "code",
   "execution_count": null,
   "metadata": {},
   "outputs": [],
   "source": [
    "transactions.describe(include = 'all')"
   ]
  },
  {
   "cell_type": "markdown",
   "metadata": {},
   "source": [
    "Ao realizar uma análise estatística descritiva sobre os dados, observando a contagem, a unicidade, a frequência, a média, o desvio padrão, os extremos (mínimo e máximo) e os quartis (incluindo a mediana) dos valores presentes em cada coluna, constatam-se os seguintes factos:\n",
    "\n",
    "- Existem apenas 5 cidades distintas, todas nos Estados Unidos da América;\n",
    "- A proporção de clientes homens/mulheres é razoavelmente equilibrada (41%/59%);\n",
    "- Como existem 6 cidades presentes no conjunto de clientes, pelo menos uma delas não estará mapeada no conjunto de cidades (por serem 5), pelo que não terá informações/detalhes adicionais;\n",
    "- Existem apenas 7 profissões distintas de clientes;\n",
    "- Existem apenas 5 categorias distintas de comerciantes;\n",
    "- O espaço geográfico no qual se encontram os comerciantes é muito mais abrangente do que o espaço geográfico das cidades, isto é, haverá muitos comerciantes que - pelas suas coordenadas (latitude e longitude) - não se situam nos Estados Unidos da América;\n",
    "- Existem 2 transações efetuadas exatamente ao mesmo tempo (com ano, dia, hora, minuto e segundo coincidentes), que poderão ser a mesma;\n",
    "- Como existem 101 comerciantes presentes no conjunto de transações, pelo menos um deles não estará mapeado no conjunto de comerciantes (por serem 100), pelo que não terá informações/detalhes adicionais;\n",
    "- Existem várias transações com o mesmo número (*trans_num*), que deverão ser duplicadas;\n",
    "- No conjunto de dados considerado, apenas 2% das transações são fraudulentas.\n",
    "\n",
    "Assim, é possível concluir que:\n",
    "\n",
    "- O conjunto de dados é desequilibrado, visto que a variável-alvo (*is_fraud*) não divide as transações em dois grupos com aproximadamente o mesmo tamanho, mas sim num grupo com cerca de 600 transações (fraudulentas) e noutro com cerca de 294000 transações (legítimas), ou seja, quase 50 vezes maior;\n",
    "- Para além das hipóteses levantadas anteriormente, talvez exista alguma relação entre a legitimidade de uma transação e a localização geográfica do comerciante, isto é, uma transação poderá ser fraudulenta com maior probabilidade se o comerciante se situar fora dos Estados Unidos da América."
   ]
  },
  {
   "cell_type": "markdown",
   "metadata": {},
   "source": [
    "### Exploração dos Dados"
   ]
  },
  {
   "cell_type": "markdown",
   "metadata": {},
   "source": [
    "Nesta fase, desenham-se os gráficos para os atributos considerados relevantes, tendo em vista a extração de novas conclusões."
   ]
  },
  {
   "cell_type": "markdown",
   "metadata": {},
   "source": [
    "Para o conjunto de cidades, não é necessário nenhum gráfico para analisar melhor os seus dados, visto que apenas contém cinco entradas."
   ]
  },
  {
   "cell_type": "code",
   "execution_count": 56,
   "metadata": {},
   "outputs": [
    {
     "data": {
      "text/html": [
       "<div>\n",
       "<style scoped>\n",
       "    .dataframe tbody tr th:only-of-type {\n",
       "        vertical-align: middle;\n",
       "    }\n",
       "\n",
       "    .dataframe tbody tr th {\n",
       "        vertical-align: top;\n",
       "    }\n",
       "\n",
       "    .dataframe thead th {\n",
       "        text-align: right;\n",
       "    }\n",
       "</style>\n",
       "<table border=\"1\" class=\"dataframe\">\n",
       "  <thead>\n",
       "    <tr style=\"text-align: right;\">\n",
       "      <th></th>\n",
       "      <th>city</th>\n",
       "      <th>lat</th>\n",
       "      <th>long</th>\n",
       "      <th>city_pop</th>\n",
       "      <th>state</th>\n",
       "    </tr>\n",
       "  </thead>\n",
       "  <tbody>\n",
       "    <tr>\n",
       "      <th>0</th>\n",
       "      <td>Los Angeles</td>\n",
       "      <td>34.0522</td>\n",
       "      <td>-118.2437</td>\n",
       "      <td>3979576</td>\n",
       "      <td>CA</td>\n",
       "    </tr>\n",
       "    <tr>\n",
       "      <th>1</th>\n",
       "      <td>Houston</td>\n",
       "      <td>29.7604</td>\n",
       "      <td>-95.3698</td>\n",
       "      <td>2328000</td>\n",
       "      <td>TX</td>\n",
       "    </tr>\n",
       "    <tr>\n",
       "      <th>2</th>\n",
       "      <td>Phoenix</td>\n",
       "      <td>33.4484</td>\n",
       "      <td>-112.0740</td>\n",
       "      <td>1680992</td>\n",
       "      <td>AZ</td>\n",
       "    </tr>\n",
       "    <tr>\n",
       "      <th>3</th>\n",
       "      <td>Chicago</td>\n",
       "      <td>41.8781</td>\n",
       "      <td>-87.6298</td>\n",
       "      <td>2716000</td>\n",
       "      <td>IL</td>\n",
       "    </tr>\n",
       "    <tr>\n",
       "      <th>4</th>\n",
       "      <td>New York</td>\n",
       "      <td>40.7128</td>\n",
       "      <td>-74.0060</td>\n",
       "      <td>8419600</td>\n",
       "      <td>NY</td>\n",
       "    </tr>\n",
       "  </tbody>\n",
       "</table>\n",
       "</div>"
      ],
      "text/plain": [
       "          city      lat      long  city_pop state\n",
       "0  Los Angeles  34.0522 -118.2437   3979576    CA\n",
       "1      Houston  29.7604  -95.3698   2328000    TX\n",
       "2      Phoenix  33.4484 -112.0740   1680992    AZ\n",
       "3      Chicago  41.8781  -87.6298   2716000    IL\n",
       "4     New York  40.7128  -74.0060   8419600    NY"
      ]
     },
     "execution_count": 56,
     "metadata": {},
     "output_type": "execute_result"
    }
   ],
   "source": [
    "cities"
   ]
  },
  {
   "cell_type": "markdown",
   "metadata": {},
   "source": [
    "Para o conjunto de clientes, pode visualizar-se a sua distribuição por género, por cidade, por profissão e por idade (derivada a partir da data de nascimento)."
   ]
  },
  {
   "cell_type": "code",
   "execution_count": 79,
   "metadata": {},
   "outputs": [
    {
     "data": {
      "text/plain": [
       "<matplotlib.legend.Legend at 0x255439e21d0>"
      ]
     },
     "execution_count": 79,
     "metadata": {},
     "output_type": "execute_result"
    },
    {
     "data": {
      "image/png": "[encoded data removed]",
      "text/plain": [
       "<Figure size 2000x500 with 3 Axes>"
      ]
     },
     "metadata": {},
     "output_type": "display_data"
    }
   ],
   "source": [
    "plt.figure(figsize = (20, 5))\n",
    "\n",
    "plt.subplot(1, 3, 1)\n",
    "sb.countplot(data = customers, x = 'city', hue = 'gender')\n",
    "\n",
    "plt.subplot(1, 3, 2)\n",
    "sb.countplot(data = customers, x = 'job', hue = 'gender')\n",
    "\n",
    "plt.subplot(1, 3, 3)\n",
    "sb.histplot(data = (pd.to_datetime('today') - pd.to_datetime(customers[customers['gender'] == 'M']['dob'])).dt.days // 365, label = 'M')\n",
    "sb.histplot(data = (pd.to_datetime('today') - pd.to_datetime(customers[customers['gender'] == 'F']['dob'])).dt.days // 365, label = 'F')\n",
    "plt.legend(plt.gca().get_legend_handles_labels()[1])"
   ]
  },
  {
   "cell_type": "code",
   "execution_count": null,
   "metadata": {},
   "outputs": [],
   "source": [
    "plt.figure(figsize = (20, 15))\n",
    "\n",
    "not_fraud = transactions[transactions['is_fraud'] == 0].drop(['index', 'trans_date_trans_time', 'trans_num', 'is_fraud'], axis = 1)\n",
    "fraud = transactions[transactions['is_fraud'] == 1].drop(['index', 'trans_date_trans_time', 'trans_num', 'is_fraud'], axis = 1)\n",
    "\n",
    "for i, col in enumerate(not_fraud.columns):\n",
    "    plt.subplot(4, 3, i + 1)\n",
    "    sb.histplot(data = not_fraud[col], label = 'Not Fraud')\n",
    "    sb.histplot(data = fraud[col], label = 'Fraud')\n",
    "    plt.legend(plt.gca().get_legend_handles_labels()[1])\n"
   ]
  },
  {
   "cell_type": "code",
   "execution_count": null,
   "metadata": {},
   "outputs": [],
   "source": [
    "columns = transactions.columns.drop(['index', 'trans_date_trans_time', 'trans_num'])\n",
    "continuous = [col for col in columns if (transactions[col].nunique() > 11 or col == 'is_fraud')]\n",
    "\n",
    "plt.figure(figsize = (15, 15))\n",
    "sb.pairplot(transactions[continuous], hue='is_fraud')"
   ]
  },
  {
   "cell_type": "code",
   "execution_count": null,
   "metadata": {},
   "outputs": [],
   "source": [
    "non_binary = [col for col in columns if transactions[col].nunique() > 2 and transactions[col].nunique() <= 11]\n",
    "\n",
    "plt.figure(figsize = (20, 5))\n",
    "for (i, column) in enumerate(non_binary):\n",
    "    plt.subplot(1, 3, i + 1)\n",
    "    table = pd.crosstab(transactions[column], transactions['is_fraud'])\n",
    "    row_sum = table.sum(axis = 1)\n",
    "    percentages = (table.T / row_sum * 100).T\n",
    "    annotations = [['{} ({}%)'.format(count, round(percentage)) for percentage, count in zip(row, table_row)] for table_row, row in zip(table.values, percentages.values)]\n",
    "    sb.heatmap(table, annot = annotations, fmt = '', cmap = 'coolwarm', linewidths=.5)"
   ]
  },
  {
   "cell_type": "code",
   "execution_count": null,
   "metadata": {},
   "outputs": [],
   "source": [
    "binary = [col for col in columns if transactions[col].nunique() == 2 and col != 'is_fraud']\n",
    "\n",
    "plt.figure(figsize = (20, 5))\n",
    "for (i, column) in enumerate(binary):\n",
    "    plt.subplot(1, 3, i + 1)\n",
    "    table = pd.crosstab(transactions[column], transactions['is_fraud'])\n",
    "    row_sum = table.sum(axis = 1)\n",
    "    percentages = (table.T / row_sum * 100).T\n",
    "    annotations = [['{} ({}%)'.format(count, round(percentage)) for percentage, count in zip(row, table_row)] for table_row, row in zip(table.values, percentages.values)]\n",
    "    sb.heatmap(table, annot = annotations, fmt = '', cmap = 'coolwarm', linewidths=.5)"
   ]
  },
  {
   "cell_type": "code",
   "execution_count": null,
   "metadata": {},
   "outputs": [],
   "source": [
    "plt.figure(figsize = (10, 10))\n",
    "\n",
    "correlation = transactions.drop(['index', 'trans_date_trans_time', 'device_os', 'merchant', 'trans_num'], axis = 1).corr()\n",
    "sb.heatmap(correlation, annot = True, cmap='coolwarm', vmin = -1, vmax = 1)"
   ]
  },
  {
   "cell_type": "markdown",
   "metadata": {},
   "source": [
    "### Verificação da Qualidade dos Dados"
   ]
  },
  {
   "cell_type": "markdown",
   "metadata": {},
   "source": [
    "## Preparação dos Dados"
   ]
  },
  {
   "cell_type": "code",
   "execution_count": null,
   "metadata": {},
   "outputs": [],
   "source": [
    "data = transactions.merge(merchants, on = 'merchant', how = 'outer').merge(customers.merge(cities, on = 'city', how = 'outer'), on = 'cc_num', how = 'outer')\n",
    "\n",
    "data.head()\n",
    "data.describe(include = 'all')"
   ]
  },
  {
   "cell_type": "markdown",
   "metadata": {},
   "source": [
    "## Análise Descritiva"
   ]
  }
 ],
 "metadata": {
  "kernelspec": {
   "display_name": "Python 3",
   "language": "python",
   "name": "python3"
  },
  "language_info": {
   "codemirror_mode": {
    "name": "ipython",
    "version": 3
   },
   "file_extension": ".py",
   "mimetype": "text/x-python",
   "name": "python",
   "nbconvert_exporter": "python",
   "pygments_lexer": "ipython3",
   "version": "3.11.9"
  }
 },
 "nbformat": 4,
 "nbformat_minor": 2
}
