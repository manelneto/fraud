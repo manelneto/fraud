{
 "cells": [
  {
   "cell_type": "markdown",
   "metadata": {},
   "source": [
    "# *Credit Card Fraud Detection - Task 2*\n",
    "\n",
    "![logo](images/logo.jpg)"
   ]
  },
  {
   "cell_type": "code",
   "execution_count": 1,
   "metadata": {},
   "outputs": [],
   "source": [
    "import matplotlib.pyplot as plt\n",
    "import pandas as pd\n",
    "import warnings\n",
    "\n",
    "from imblearn.over_sampling import SMOTE\n",
    "from imblearn.pipeline import Pipeline as imbpipeline\n",
    "from sklearn.ensemble import RandomForestClassifier\n",
    "from sklearn.metrics import classification_report, confusion_matrix, roc_auc_score, roc_curve, ConfusionMatrixDisplay\n",
    "from sklearn.model_selection import cross_val_score, train_test_split, GridSearchCV, StratifiedKFold\n",
    "from sklearn.neighbors import KNeighborsClassifier\n",
    "from sklearn.neural_network import MLPClassifier\n",
    "from sklearn.pipeline import Pipeline\n",
    "from sklearn.preprocessing import StandardScaler\n",
    "from sklearn.svm import SVC\n",
    "from sklearn.tree import DecisionTreeClassifier\n",
    "\n",
    "warnings.filterwarnings('ignore')\n",
    "\n",
    "data = pd.read_csv(\"data/data.csv\")"
   ]
  },
  {
   "cell_type": "markdown",
   "metadata": {},
   "source": [
    "## Modelação Preditiva"
   ]
  },
  {
   "cell_type": "markdown",
   "metadata": {},
   "source": [
    "### Seleção de Técnicas de Modelação"
   ]
  },
  {
   "cell_type": "markdown",
   "metadata": {},
   "source": [
    "Tomando em consideração os objetivos de mineração de dados, em particular o problema de classificação a tratar, optam-se pelas seguintes técnicas de modelação:\n",
    "1. ***K-Nearest Neighbors*** - classifica novos dados através da sua proximidade com os dados já existentes, tendo em consideração as classes dos *k* vizinhos mais próximos;\n",
    "2. ***Naive Bayes*** - baseia-se no Teorema de Bayes e no conceito de probabilidade condicionada para efetuar a classificação;\n",
    "3. ***Decision Tree*** - toma decisões a partir dos atributos de cada cliente, dividindo sucessivamente o conjunto inicial em subconjuntos de menor dimensão;\n",
    "4. ***Random Forest*** - combina várias árvores de decisão;\n",
    "5. ***AdaBoost*** - cria uma sequência de classificadores simples e ajusta iterativamente o peso de cada instância mal classificada;\n",
    "6. ***Support Vector Machine*** - procura o hiper-plano que melhor separa os registos das diferentes classes, maximizando a margem;\n",
    "7. ***Neural Network*** - aprende padrões complexos nos dados através de camadas de \"neurónios\" artificiais.\n",
    "\n",
    "O número elevado de diferentes técnicas a experimentar prende-se com o facto de, desconhecendo-se a estrutura/organização subjacentes aos dados, pretender identificar-se o modelo que melhor se adapta aos mesmos e que produz os melhores resultados."
   ]
  },
  {
   "cell_type": "markdown",
   "metadata": {},
   "source": [
    "### Geração do *Design* do Teste"
   ]
  },
  {
   "cell_type": "markdown",
   "metadata": {},
   "source": [
    "Todos os modelos devem ser treinados com um conjunto de dados de treino e testados num conjunto de dados de teste. Assim, é necessário dividir o dataset nestes dois conjuntos, de forma aleatória."
   ]
  },
  {
   "cell_type": "code",
   "execution_count": 2,
   "metadata": {},
   "outputs": [],
   "source": [
    "predictors = data.drop('is_fraud', axis = 1)\n",
    "\n",
    "targets = data['is_fraud']\n",
    "\n",
    "(train_predictors, test_predictors, train_targets, test_targets) = train_test_split(predictors, targets, test_size = 0.25, random_state = 10)"
   ]
  },
  {
   "cell_type": "markdown",
   "metadata": {},
   "source": [
    "A variável `predictors` contém as variáveis preditivas e os respetivos valores, enquanto a variável `targets` contém os valores correspondentes da variável-avo.\n",
    "\n",
    "A função `train_test_split` separa os dados em conjuntos de treino e de teste, de maneira que o conjunto de teste contenha 25% dos dados originais."
   ]
  },
  {
   "cell_type": "markdown",
   "metadata": {},
   "source": [
    "Tendo em conta que o conjunto de dados é desequilibrado, recorrer-se-á à técnica de *Synthetic Minority Over-Sampling* (SMOTE), que cria novos exemplos sintéticos da classe minoritária (transações fraudulentas), reduzindo os riscos de *undersampling* e de *oversampling*."
   ]
  },
  {
   "cell_type": "code",
   "execution_count": 3,
   "metadata": {},
   "outputs": [],
   "source": [
    "smote = SMOTE(random_state = 10)"
   ]
  },
  {
   "cell_type": "markdown",
   "metadata": {},
   "source": [
    "A par disso, para uniformizar as amplitudes das escalas dos diferentes atributos numéricos e evitar que os atributos de maior magnitude absorvam/dominem os atributos de menor magnitude, far-se-á *Standardization*."
   ]
  },
  {
   "cell_type": "code",
   "execution_count": 4,
   "metadata": {},
   "outputs": [],
   "source": [
    "scaler = StandardScaler()"
   ]
  },
  {
   "cell_type": "markdown",
   "metadata": {},
   "source": [
    "Finalmente, para melhorar os resultados obtidos no processo de afinação de parâmetros de cada modelo e para evitar flutuações dos resultados de avaliação devidos à divisão aleatória dos dados em conjuntos de treino e de teste, recorrer-se-á a *cross-validation*. Assim, dividir-se-ão os dados em *k* subconjuntos e usar-se-á um dos subconjuntos como conjunto de teste e os restantes conjuntos como conjunto de treino, repetindo este processo *k* vezes, mas garantindo que cada subconjunto só é considerado conjunto de teste uma única vez.\n",
    "\n",
    "Neste caso, considera-se *k* = 10 e realiza-se *stratified cross-validation*, de modo que a proporção da variável-alvo se mantenha constante em cada um dos subconjuntos gerados."
   ]
  },
  {
   "cell_type": "code",
   "execution_count": 5,
   "metadata": {},
   "outputs": [],
   "source": [
    "cross_validation = StratifiedKFold(n_splits = 10, random_state = 10, shuffle = True)"
   ]
  },
  {
   "cell_type": "markdown",
   "metadata": {},
   "source": [
    "O critério primordial de avaliação dos modelos será a área abaixo da curva ROC (*Receiver Operating Characteristic*) entre a probabilidade prevista e o valor real da variável-avo, ou seja, avaliar-se-á cada modelo quanto a capacidade de distinguir corretamente transações fraudulentas de legítimas.\n",
    "\n",
    "Para além disso, serão calculadas as restantes métricas de avaliação (exatidão, precisão e *recall*), bem como visualizada a matriz de confusão, tendo em vista uma comparação completa e adequadamente fundamentada dos modelos."
   ]
  },
  {
   "cell_type": "markdown",
   "metadata": {},
   "source": [
    "### Construção dos Modelos"
   ]
  },
  {
   "cell_type": "markdown",
   "metadata": {},
   "source": [
    "#### *K-Nearest Neighbors*"
   ]
  },
  {
   "cell_type": "code",
   "execution_count": 6,
   "metadata": {},
   "outputs": [
    {
     "name": "stdout",
     "output_type": "stream",
     "text": [
      "K-Nearest Neighbors Best AUC Score: 55.95%\n",
      "K-Nearest Neighbors Best Parameters: {'classifier__metric': 'manhattan', 'classifier__n_neighbors': 7, 'classifier__weights': 'uniform'}\n",
      "K-Nearest Neighbors Test AUC Score: 57.14%\n"
     ]
    }
   ],
   "source": [
    "knn = KNeighborsClassifier()\n",
    "\n",
    "knn_pipeline = imbpipeline([\n",
    "    ['smote', smote],\n",
    "    ['scaler', scaler],\n",
    "    ['classifier', knn]\n",
    "])\n",
    "\n",
    "knn_parameter_grid = {\n",
    "    'classifier__n_neighbors': [3, 5, 7],\n",
    "    'classifier__weights': ['uniform', 'distance'],\n",
    "    'classifier__metric': ['euclidean', 'manhattan', 'minkowski']\n",
    "}\n",
    "\n",
    "knn_grid_search = GridSearchCV(knn_pipeline, knn_parameter_grid, cv = cross_validation, n_jobs = -1, scoring = 'roc_auc')\n",
    "\n",
    "knn_grid_search.fit(train_predictors, train_targets)\n",
    "\n",
    "knn_auc = knn_grid_search.score(test_predictors, test_targets)\n",
    "\n",
    "print('K-Nearest Neighbors Best AUC Score: {:.2f}%'.format(knn_grid_search.best_score_ * 100))\n",
    "print('K-Nearest Neighbors Best Parameters:', knn_grid_search.best_params_)\n",
    "print('K-Nearest Neighbors Test AUC Score: {:.2f}%'.format(knn_auc * 100))"
   ]
  },
  {
   "cell_type": "markdown",
   "metadata": {},
   "source": [
    "#### *Naive Bayes*"
   ]
  },
  {
   "cell_type": "code",
   "execution_count": null,
   "metadata": {},
   "outputs": [],
   "source": []
  },
  {
   "cell_type": "markdown",
   "metadata": {},
   "source": [
    "#### *Decision Tree*"
   ]
  },
  {
   "cell_type": "code",
   "execution_count": 7,
   "metadata": {},
   "outputs": [
    {
     "name": "stdout",
     "output_type": "stream",
     "text": [
      "Decision Tree Best AUC Score: 82.48%\n",
      "Decision Tree Best Parameters: {'classifier__criterion': 'gini', 'classifier__max_features': 'sqrt', 'classifier__splitter': 'best'}\n",
      "Decision Tree Test Score: 82.00%\n"
     ]
    }
   ],
   "source": [
    "decision_tree = DecisionTreeClassifier(random_state = 10)\n",
    "\n",
    "decision_tree_pipeline = imbpipeline([\n",
    "    ['smote', smote],\n",
    "    ['scaler', scaler],\n",
    "    ['classifier', decision_tree]\n",
    "])\n",
    "\n",
    "decision_tree_parameter_grid = {\n",
    "    'classifier__criterion': ['gini', 'entropy', 'log_loss'],\n",
    "    'classifier__splitter': ['best', 'random'],\n",
    "    'classifier__max_features': ['auto', 'sqrt', 'log2']\n",
    "}\n",
    "\n",
    "decision_tree_grid_search = GridSearchCV(decision_tree_pipeline, decision_tree_parameter_grid, cv = cross_validation, n_jobs = -1, scoring = 'roc_auc')\n",
    "\n",
    "decision_tree_grid_search.fit(train_predictors, train_targets)\n",
    "\n",
    "decision_tree_auc = decision_tree_grid_search.score(test_predictors, test_targets)\n",
    "\n",
    "print('Decision Tree Best AUC Score: {:.2f}%'.format(decision_tree_grid_search.best_score_ * 100))\n",
    "print('Decision Tree Best Parameters:', decision_tree_grid_search.best_params_)\n",
    "print('Decision Tree Test Score: {:.2f}%'.format(decision_tree_auc * 100))"
   ]
  },
  {
   "cell_type": "markdown",
   "metadata": {},
   "source": [
    "#### *Random Forest*"
   ]
  },
  {
   "cell_type": "code",
   "execution_count": 8,
   "metadata": {},
   "outputs": [
    {
     "name": "stdout",
     "output_type": "stream",
     "text": [
      "Random Forest Best AUC Score: 92.85%\n",
      "Random Forest Best Parameters: {'classifier__criterion': 'entropy', 'classifier__max_features': 'sqrt'}\n",
      "Random Forest Test AUC Score: 93.03%\n"
     ]
    }
   ],
   "source": [
    "random_forest = RandomForestClassifier(random_state = 10)\n",
    "\n",
    "random_forest_pipeline = imbpipeline([\n",
    "    ['smote', smote],\n",
    "    ['scaler', scaler],\n",
    "    ['classifier', random_forest]\n",
    "])\n",
    "\n",
    "random_forest_parameter_grid = {\n",
    "    'classifier__criterion': ['gini', 'entropy', 'log_loss'],\n",
    "    'classifier__max_features': ['sqrt', 'log2'],\n",
    "}\n",
    "\n",
    "random_forest_grid_search = GridSearchCV(random_forest_pipeline, random_forest_parameter_grid, cv = cross_validation, n_jobs = -1, scoring = 'roc_auc')\n",
    "\n",
    "random_forest_grid_search.fit(train_predictors, train_targets)\n",
    "\n",
    "random_forest_auc = random_forest_grid_search.score(test_predictors, test_targets)\n",
    "\n",
    "print('Random Forest Best AUC Score: {:.2f}%'.format(random_forest_grid_search.best_score_ * 100))\n",
    "print('Random Forest Best Parameters:', random_forest_grid_search.best_params_)\n",
    "print('Random Forest Test AUC Score: {:.2f}%'.format(random_forest_auc * 100))"
   ]
  },
  {
   "cell_type": "markdown",
   "metadata": {},
   "source": [
    "#### *AdaBoost*"
   ]
  },
  {
   "cell_type": "code",
   "execution_count": null,
   "metadata": {},
   "outputs": [],
   "source": []
  },
  {
   "cell_type": "markdown",
   "metadata": {},
   "source": [
    "#### *Support Vector Machine*"
   ]
  },
  {
   "cell_type": "code",
   "execution_count": null,
   "metadata": {},
   "outputs": [
    {
     "name": "stdout",
     "output_type": "stream",
     "text": [
      "Support Vector Machine Best AUC Score: 88.46%\n",
      "Support Vector Machine Best Parameters: {'classifier__gamma': 'scale', 'classifier__kernel': 'rbf'}\n",
      "Support Vector Machine Test Score: 89.11%\n"
     ]
    }
   ],
   "source": [
    "svm = SVC(random_state = 10, probability = True)\n",
    "\n",
    "svm_pipeline = imbpipeline([\n",
    "    ['smote', smote],\n",
    "    ['scaler', scaler],\n",
    "    ['classifier', svm]\n",
    "])\n",
    "\n",
    "svm_parameter_grid = {\n",
    "    'classifier__kernel': ['linear', 'poly', 'rbf', 'sigmoid'],\n",
    "    'classifier__gamma': ['scale', 'auto']\n",
    "}\n",
    "\n",
    "svm_grid_search = GridSearchCV(svm_pipeline, svm_parameter_grid, cv = cross_validation, n_jobs = -1, scoring = 'roc_auc')\n",
    "\n",
    "svm_grid_search.fit(train_predictors, train_targets)\n",
    "\n",
    "svm_auc = svm_grid_search.score(test_predictors, test_targets)\n",
    "\n",
    "print('Support Vector Machine Best AUC Score: {:.2f}%'.format(svm_grid_search.best_score_ * 100))\n",
    "print('Support Vector Machine Best Parameters:', svm_grid_search.best_params_)\n",
    "print('Support Vector Machine Test Score: {:.2f}%'.format(svm_auc * 100))"
   ]
  },
  {
   "cell_type": "markdown",
   "metadata": {},
   "source": [
    "#### *Neural Network*"
   ]
  },
  {
   "cell_type": "code",
   "execution_count": null,
   "metadata": {},
   "outputs": [
    {
     "name": "stdout",
     "output_type": "stream",
     "text": [
      "Neural Network Best AUC Score: 92.95%\n",
      "Neural Network Best Parameters: {'classifier__activation': 'relu', 'classifier__solver': 'adam'}\n",
      "Neural Network Test Score: 94.23%\n"
     ]
    }
   ],
   "source": [
    "neural_network = MLPClassifier(max_iter = 1000, random_state = 10)\n",
    "\n",
    "neural_network_pipeline = imbpipeline([\n",
    "    ['smote', smote],\n",
    "    ['scaler', scaler],\n",
    "    ['classifier', neural_network]\n",
    "])\n",
    "\n",
    "neural_network_parameter_grid = {\n",
    "    'classifier__activation': ['identity', 'logistic', 'tanh', 'relu'],\n",
    "    'classifier__solver': ['lbfgs', 'sgd', 'adam'],\n",
    "}\n",
    "\n",
    "neural_network_grid_search = GridSearchCV(neural_network_pipeline, neural_network_parameter_grid, scoring = 'roc_auc', cv = cross_validation, n_jobs = -1)\n",
    "\n",
    "neural_network_grid_search.fit(train_predictors, train_targets)\n",
    "\n",
    "neural_network_auc = neural_network_grid_search.score(test_predictors, test_targets)\n",
    "\n",
    "print('Neural Network Best AUC Score: {:.2f}%'.format(neural_network_grid_search.best_score_ * 100))\n",
    "print('Neural Network Best Parameters:', neural_network_grid_search.best_params_)\n",
    "print('Neural Network Test Score: {:.2f}%'.format(neural_network_auc * 100))"
   ]
  },
  {
   "cell_type": "markdown",
   "metadata": {},
   "source": [
    "### Avaliação dos Modelos"
   ]
  },
  {
   "cell_type": "markdown",
   "metadata": {},
   "source": [
    "## Avaliação"
   ]
  },
  {
   "cell_type": "markdown",
   "metadata": {},
   "source": [
    "### Avaliação dos Resultados"
   ]
  },
  {
   "cell_type": "code",
   "execution_count": 12,
   "metadata": {},
   "outputs": [
    {
     "data": {
      "text/plain": [
       "Text(0.5, 1.0, 'Area Under Curve (AUC)')"
      ]
     },
     "execution_count": 12,
     "metadata": {},
     "output_type": "execute_result"
    },
    {
     "data": {
      "image/png": "[encoded data removed]",
      "text/plain": [
       "<Figure size 2000x1000 with 1 Axes>"
      ]
     },
     "metadata": {},
     "output_type": "display_data"
    }
   ],
   "source": [
    "models = [knn, decision_tree, random_forest, neural_network]\n",
    "labels = ['K-Nearest Neighbors', 'Decision Tree', 'Random Forest', 'Neural Network']\n",
    "\n",
    "scores = []\n",
    "for model in models:\n",
    "    pipeline = imbpipeline([\n",
    "        ['smote', smote],\n",
    "        ['scaler', scaler],\n",
    "        ['classifier', model]\n",
    "    ])\n",
    "    score = cross_val_score(pipeline, predictors, targets, cv = cross_validation, n_jobs = -1, scoring = 'roc_auc')\n",
    "    scores.append(score)\n",
    "\n",
    "plt.figure(figsize = (20, 10))\n",
    "plt.boxplot(scores, labels = labels)\n",
    "plt.title('Area Under Curve (AUC)')"
   ]
  },
  {
   "cell_type": "markdown",
   "metadata": {},
   "source": [
    "### Revisão do Processo"
   ]
  },
  {
   "cell_type": "markdown",
   "metadata": {},
   "source": [
    "### Determinação dos Próximos Passos"
   ]
  },
  {
   "cell_type": "markdown",
   "metadata": {},
   "source": [
    "## Produção"
   ]
  },
  {
   "cell_type": "code",
   "execution_count": 13,
   "metadata": {},
   "outputs": [
    {
     "data": {
      "text/html": [
       "<div>\n",
       "<style scoped>\n",
       "    .dataframe tbody tr th:only-of-type {\n",
       "        vertical-align: middle;\n",
       "    }\n",
       "\n",
       "    .dataframe tbody tr th {\n",
       "        vertical-align: top;\n",
       "    }\n",
       "\n",
       "    .dataframe thead th {\n",
       "        text-align: right;\n",
       "    }\n",
       "</style>\n",
       "<table border=\"1\" class=\"dataframe\">\n",
       "  <thead>\n",
       "    <tr style=\"text-align: right;\">\n",
       "      <th></th>\n",
       "      <th>age</th>\n",
       "      <th>amt</th>\n",
       "      <th>category_Apparel</th>\n",
       "      <th>category_Electronics</th>\n",
       "      <th>category_Entertainment</th>\n",
       "      <th>category_Groceries</th>\n",
       "      <th>category_Travel</th>\n",
       "      <th>city_Chicago</th>\n",
       "      <th>city_Houston</th>\n",
       "      <th>city_Los Angeles</th>\n",
       "      <th>...</th>\n",
       "      <th>job_Artist</th>\n",
       "      <th>job_Clerk</th>\n",
       "      <th>job_Doctor</th>\n",
       "      <th>job_Engineer</th>\n",
       "      <th>job_Lawyer</th>\n",
       "      <th>job_Nurse</th>\n",
       "      <th>job_Teacher</th>\n",
       "      <th>merchant_transactions_count</th>\n",
       "      <th>month</th>\n",
       "      <th>weekday</th>\n",
       "    </tr>\n",
       "  </thead>\n",
       "  <tbody>\n",
       "    <tr>\n",
       "      <th>0</th>\n",
       "      <td>31</td>\n",
       "      <td>483.368265</td>\n",
       "      <td>False</td>\n",
       "      <td>False</td>\n",
       "      <td>False</td>\n",
       "      <td>True</td>\n",
       "      <td>False</td>\n",
       "      <td>True</td>\n",
       "      <td>False</td>\n",
       "      <td>False</td>\n",
       "      <td>...</td>\n",
       "      <td>False</td>\n",
       "      <td>False</td>\n",
       "      <td>False</td>\n",
       "      <td>True</td>\n",
       "      <td>False</td>\n",
       "      <td>False</td>\n",
       "      <td>False</td>\n",
       "      <td>0</td>\n",
       "      <td>12</td>\n",
       "      <td>2</td>\n",
       "    </tr>\n",
       "    <tr>\n",
       "      <th>1</th>\n",
       "      <td>21</td>\n",
       "      <td>236.803300</td>\n",
       "      <td>False</td>\n",
       "      <td>False</td>\n",
       "      <td>False</td>\n",
       "      <td>True</td>\n",
       "      <td>False</td>\n",
       "      <td>True</td>\n",
       "      <td>False</td>\n",
       "      <td>False</td>\n",
       "      <td>...</td>\n",
       "      <td>False</td>\n",
       "      <td>False</td>\n",
       "      <td>False</td>\n",
       "      <td>False</td>\n",
       "      <td>False</td>\n",
       "      <td>True</td>\n",
       "      <td>False</td>\n",
       "      <td>0</td>\n",
       "      <td>8</td>\n",
       "      <td>3</td>\n",
       "    </tr>\n",
       "    <tr>\n",
       "      <th>2</th>\n",
       "      <td>21</td>\n",
       "      <td>181.193456</td>\n",
       "      <td>False</td>\n",
       "      <td>False</td>\n",
       "      <td>True</td>\n",
       "      <td>False</td>\n",
       "      <td>False</td>\n",
       "      <td>True</td>\n",
       "      <td>False</td>\n",
       "      <td>False</td>\n",
       "      <td>...</td>\n",
       "      <td>False</td>\n",
       "      <td>False</td>\n",
       "      <td>False</td>\n",
       "      <td>False</td>\n",
       "      <td>False</td>\n",
       "      <td>True</td>\n",
       "      <td>False</td>\n",
       "      <td>0</td>\n",
       "      <td>2</td>\n",
       "      <td>0</td>\n",
       "    </tr>\n",
       "    <tr>\n",
       "      <th>3</th>\n",
       "      <td>29</td>\n",
       "      <td>22.241488</td>\n",
       "      <td>True</td>\n",
       "      <td>False</td>\n",
       "      <td>False</td>\n",
       "      <td>False</td>\n",
       "      <td>False</td>\n",
       "      <td>True</td>\n",
       "      <td>False</td>\n",
       "      <td>False</td>\n",
       "      <td>...</td>\n",
       "      <td>False</td>\n",
       "      <td>False</td>\n",
       "      <td>False</td>\n",
       "      <td>False</td>\n",
       "      <td>False</td>\n",
       "      <td>True</td>\n",
       "      <td>False</td>\n",
       "      <td>0</td>\n",
       "      <td>9</td>\n",
       "      <td>5</td>\n",
       "    </tr>\n",
       "    <tr>\n",
       "      <th>4</th>\n",
       "      <td>69</td>\n",
       "      <td>293.482287</td>\n",
       "      <td>False</td>\n",
       "      <td>False</td>\n",
       "      <td>False</td>\n",
       "      <td>True</td>\n",
       "      <td>False</td>\n",
       "      <td>False</td>\n",
       "      <td>True</td>\n",
       "      <td>False</td>\n",
       "      <td>...</td>\n",
       "      <td>False</td>\n",
       "      <td>False</td>\n",
       "      <td>False</td>\n",
       "      <td>True</td>\n",
       "      <td>False</td>\n",
       "      <td>False</td>\n",
       "      <td>False</td>\n",
       "      <td>0</td>\n",
       "      <td>1</td>\n",
       "      <td>1</td>\n",
       "    </tr>\n",
       "  </tbody>\n",
       "</table>\n",
       "<p>5 rows × 34 columns</p>\n",
       "</div>"
      ],
      "text/plain": [
       "   age         amt  category_Apparel  category_Electronics  \\\n",
       "0   31  483.368265             False                 False   \n",
       "1   21  236.803300             False                 False   \n",
       "2   21  181.193456             False                 False   \n",
       "3   29   22.241488              True                 False   \n",
       "4   69  293.482287             False                 False   \n",
       "\n",
       "   category_Entertainment  category_Groceries  category_Travel  city_Chicago  \\\n",
       "0                   False                True            False          True   \n",
       "1                   False                True            False          True   \n",
       "2                    True               False            False          True   \n",
       "3                   False               False            False          True   \n",
       "4                   False                True            False         False   \n",
       "\n",
       "   city_Houston  city_Los Angeles  ...  job_Artist  job_Clerk  job_Doctor  \\\n",
       "0         False             False  ...       False      False       False   \n",
       "1         False             False  ...       False      False       False   \n",
       "2         False             False  ...       False      False       False   \n",
       "3         False             False  ...       False      False       False   \n",
       "4          True             False  ...       False      False       False   \n",
       "\n",
       "   job_Engineer  job_Lawyer  job_Nurse  job_Teacher  \\\n",
       "0          True       False      False        False   \n",
       "1         False       False       True        False   \n",
       "2         False       False       True        False   \n",
       "3         False       False       True        False   \n",
       "4          True       False      False        False   \n",
       "\n",
       "   merchant_transactions_count  month  weekday  \n",
       "0                            0     12        2  \n",
       "1                            0      8        3  \n",
       "2                            0      2        0  \n",
       "3                            0      9        5  \n",
       "4                            0      1        1  \n",
       "\n",
       "[5 rows x 34 columns]"
      ]
     },
     "execution_count": 13,
     "metadata": {},
     "output_type": "execute_result"
    }
   ],
   "source": [
    "customers = pd.read_csv('kaggle/customers.csv')\n",
    "merchants = pd.read_csv('kaggle/merchants.csv')\n",
    "transactions = pd.read_csv('kaggle/test_transactions.csv')\n",
    "\n",
    "def data_selection(transactions):\n",
    "    transactions = transactions.drop('trans_date_trans_time', axis = 1)\n",
    "    return transactions\n",
    "\n",
    "def data_cleaning(transactions):\n",
    "    transactions['device_os'] = transactions['device_os'].fillna('unknown')\n",
    "    transactions = transactions.drop('trans_num', axis = 1)\n",
    "    return transactions\n",
    "\n",
    "def data_construction(transactions):\n",
    "    # day, month, weekday\n",
    "    timestamp = pd.to_datetime(transactions['unix_time'], unit = 's')\n",
    "    transactions['day'] = timestamp.dt.day\n",
    "    transactions['month'] = timestamp.dt.month\n",
    "    transactions['weekday'] = timestamp.dt.weekday\n",
    "    # days_since_last_transaction\n",
    "    transactions = transactions.sort_values(by = ['cc_num', 'unix_time'])\n",
    "    transactions['days_since_last_transaction'] = transactions.groupby('cc_num')['unix_time'].diff()\n",
    "    transactions['days_since_last_transaction'] = transactions['days_since_last_transaction'] / (60 * 60 * 24)\n",
    "    transactions['days_since_last_transaction'] = transactions['days_since_last_transaction'].fillna(0)\n",
    "    # merchant_transactions_count\n",
    "    transactions = transactions.sort_values(by = ['cc_num', 'merchant', 'unix_time'])\n",
    "    transactions['merchant_transactions_count'] = transactions.groupby(['cc_num', 'merchant']).cumcount()\n",
    "    transactions = transactions.drop('unix_time', axis = 1)\n",
    "    return transactions\n",
    "\n",
    "def data_integration(transactions, merchants, customers):\n",
    "    data = transactions.merge(merchants, on = 'merchant').merge(customers, on = 'cc_num')\n",
    "    data = data.drop(['cc_num', 'merchant'], axis = 1)\n",
    "    return data\n",
    "\n",
    "def data_formatting(data):\n",
    "    data = pd.get_dummies(data, drop_first = False)\n",
    "    data['device_os_Linux'] = False # TODO\n",
    "    data = data.sort_index(axis = 1)\n",
    "    return data\n",
    "\n",
    "data = transactions.pipe(data_selection).pipe(data_cleaning).pipe(data_construction).pipe(data_integration, merchants, customers).pipe(data_formatting)\n",
    "\n",
    "data.head()"
   ]
  },
  {
   "cell_type": "code",
   "execution_count": 15,
   "metadata": {},
   "outputs": [
    {
     "name": "stdout",
     "output_type": "stream",
     "text": [
      "Support Vector Machine Best AUC Score: 88.46%\n",
      "Support Vector Machine Best Parameters: {'classifier__gamma': 'scale', 'classifier__kernel': 'rbf'}\n",
      "Support Vector Machine Test Score: 89.11%\n",
      "              precision    recall  f1-score   support\n",
      "\n",
      "           0       0.98      1.00      0.99      7199\n",
      "           1       1.00      0.01      0.01       144\n",
      "\n",
      "    accuracy                           0.98      7343\n",
      "   macro avg       0.99      0.50      0.50      7343\n",
      "weighted avg       0.98      0.98      0.97      7343\n",
      "\n"
     ]
    }
   ],
   "source": [
    "svm = SVC(random_state = 10, probability = True)\n",
    "\n",
    "svm_pipeline = imbpipeline([\n",
    "    ['smote', smote],\n",
    "    ['scaler', scaler],\n",
    "    ['classifier', svm]\n",
    "])\n",
    "\n",
    "svm_parameter_grid = {\n",
    "    'classifier__kernel': ['linear', 'poly', 'rbf', 'sigmoid'],\n",
    "    'classifier__gamma': ['scale', 'auto']\n",
    "}\n",
    "\n",
    "svm_grid_search = GridSearchCV(svm_pipeline, svm_parameter_grid, cv = cross_validation, n_jobs = -1, scoring = 'roc_auc')\n",
    "\n",
    "svm_grid_search.fit(train_predictors, train_targets)\n",
    "\n",
    "svm_auc = svm_grid_search.score(test_predictors, test_targets)\n",
    "\n",
    "print('Support Vector Machine Best AUC Score: {:.2f}%'.format(svm_grid_search.best_score_ * 100))\n",
    "print('Support Vector Machine Best Parameters:', svm_grid_search.best_params_)\n",
    "print('Support Vector Machine Test Score: {:.2f}%'.format(svm_auc * 100))\n",
    "\n",
    "print(classification_report(test_targets, svm_grid_search.predict(test_predictors)))\n",
    "\n",
    "probabilities = svm_grid_search.predict_proba(data)[:, 1]\n",
    "\n",
    "predictions = pd.DataFrame({\n",
    "    'index': data['index'],\n",
    "    'is_fraud': probabilities\n",
    "})\n",
    "\n",
    "predictions.to_csv('kaggle/predictions.csv', index = False)"
   ]
  }
 ],
 "metadata": {
  "kernelspec": {
   "display_name": "Python 3",
   "language": "python",
   "name": "python3"
  },
  "language_info": {
   "codemirror_mode": {
    "name": "ipython",
    "version": 3
   },
   "file_extension": ".py",
   "mimetype": "text/x-python",
   "name": "python",
   "nbconvert_exporter": "python",
   "pygments_lexer": "ipython3",
   "version": "3.11.9"
  }
 },
 "nbformat": 4,
 "nbformat_minor": 2
}
